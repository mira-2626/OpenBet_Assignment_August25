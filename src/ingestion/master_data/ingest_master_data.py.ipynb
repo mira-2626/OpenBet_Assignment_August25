{
 "cells": [
  {
   "cell_type": "code",
   "execution_count": 0,
   "metadata": {
    "application/vnd.databricks.v1+cell": {
     "cellMetadata": {
      "byteLimit": 2048000,
      "rowLimit": 10000
     },
     "inputWidgets": {},
     "nuid": "815483bd-3fcd-4f6e-8b3e-a10178593ec2",
     "showTitle": false,
     "tableResultSettingsMap": {},
     "title": ""
    }
   },
   "outputs": [],
   "source": [
    "import sys\n",
    "import os"
   ]
  },
  {
   "cell_type": "code",
   "execution_count": 0,
   "metadata": {
    "application/vnd.databricks.v1+cell": {
     "cellMetadata": {},
     "inputWidgets": {},
     "nuid": "ef8b3756-a358-42b9-b504-4558234bd93b",
     "showTitle": false,
     "tableResultSettingsMap": {},
     "title": ""
    }
   },
   "outputs": [],
   "source": []
  },
  {
   "cell_type": "code",
   "execution_count": 0,
   "metadata": {
    "application/vnd.databricks.v1+cell": {
     "cellMetadata": {
      "byteLimit": 2048000,
      "rowLimit": 10000
     },
     "inputWidgets": {},
     "nuid": "3819ee2e-df65-44bc-ad43-1c2b234e6c5d",
     "showTitle": false,
     "tableResultSettingsMap": {},
     "title": ""
    }
   },
   "outputs": [],
   "source": [
    "%run ../../utils/utils.py\n"
   ]
  },
  {
   "cell_type": "code",
   "execution_count": 0,
   "metadata": {
    "application/vnd.databricks.v1+cell": {
     "cellMetadata": {
      "byteLimit": 2048000,
      "rowLimit": 10000
     },
     "inputWidgets": {},
     "nuid": "97882a21-b0bd-4e64-bc95-cf3fcfea29b0",
     "showTitle": false,
     "tableResultSettingsMap": {},
     "title": ""
    }
   },
   "outputs": [],
   "source": [
    "def ingest_table(file_key, table_name, raw_schema, primary_key=None, file_path=None):\n",
    "    spark.sql(f\"CREATE SCHEMA IF NOT EXISTS {raw_schema}\")\n",
    "\n",
    "    if file_path is None:\n",
    "        raise ValueError(\"file_path must be provided\")\n",
    "\n",
    "    print(f\"Loading {file_key} from {file_path}\")\n",
    "\n",
    "    df = spark.read.csv(file_path, header=True, inferSchema=True)\n",
    "\n",
    "    if primary_key:\n",
    "        check_duplicates(df, primary_key, table_name)\n",
    "\n",
    "    target_table = f\"{raw_schema}.{table_name}\"\n",
    "    print(f\"Writing to {target_table}\")\n",
    "\n",
    "    df.write.format(\"delta\").mode(\"overwrite\").saveAsTable(target_table)\n",
    "    print(f\"{table_name} ingested successfully.\\n\")\n"
   ]
  },
  {
   "cell_type": "code",
   "execution_count": 0,
   "metadata": {
    "application/vnd.databricks.v1+cell": {
     "cellMetadata": {
      "byteLimit": 2048000,
      "rowLimit": 10000
     },
     "inputWidgets": {},
     "nuid": "15fafec6-309b-475b-95c1-67b5fad1ab67",
     "showTitle": false,
     "tableResultSettingsMap": {},
     "title": ""
    }
   },
   "outputs": [],
   "source": [
    "# load config\n",
    "current_dir = os.getcwd()\n",
    "config_path = os.path.join(current_dir, '..', '..', '..', 'config', 'config.yaml')\n",
    "config_path = os.path.normpath(config_path)\n",
    "config, root_path, master_data_folder, master_data_files = load_config(config_path)\n",
    "raw_schema = config['raw_layer']['schema']\n",
    "print(\"Master data file keys:\", master_data_files.keys())\n",
    "\n",
    "# ingest to data lake\n",
    "for table_key, table_info in master_data_files.items():\n",
    "    try:\n",
    "        print(f\"Processing {table_key}...\")\n",
    "        filename = table_info['filename']\n",
    "        primary_key = table_info.get('primary_key')\n",
    "        \n",
    "        path = get_full_path(table_info, root_path, master_data_folder)  # get full file path\n",
    "        \n",
    "        ingest_table(table_key, table_key, raw_schema=raw_schema, primary_key=primary_key, file_path=path)\n",
    "    except Exception as e:\n",
    "        print(f\"Error ingesting {table_key}: {e}\")\n",
    "\n"
   ]
  }
 ],
 "metadata": {
  "application/vnd.databricks.v1+notebook": {
   "computePreferences": null,
   "dashboards": [],
   "environmentMetadata": {
    "base_environment": "",
    "environment_version": "2"
   },
   "inputWidgetPreferences": null,
   "language": "python",
   "notebookMetadata": {
    "mostRecentlyExecutedCommandWithImplicitDF": {
     "commandId": -1,
     "dataframes": [
      "_sqldf"
     ]
    },
    "pythonIndentUnit": 4
   },
   "notebookName": "ingest_master_data.py",
   "widgets": {
    "run_date": {
     "currentValue": "30072025",
     "nuid": "7924cb41-1355-40d7-8862-6de29e83c2bf",
     "typedWidgetInfo": {
      "autoCreated": false,
      "defaultValue": "30072025",
      "label": "Run Date",
      "name": "run_date",
      "options": {
       "widgetDisplayType": "Text",
       "validationRegex": null
      },
      "parameterDataType": "String"
     },
     "widgetInfo": {
      "widgetType": "text",
      "defaultValue": "30072025",
      "label": "Run Date",
      "name": "run_date",
      "options": {
       "widgetType": "text",
       "autoCreated": false,
       "validationRegex": null
      }
     }
    }
   }
  },
  "language_info": {
   "name": "python"
  }
 },
 "nbformat": 4,
 "nbformat_minor": 0
}
