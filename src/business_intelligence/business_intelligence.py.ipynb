{
 "cells": [
  {
   "cell_type": "code",
   "execution_count": 0,
   "metadata": {
    "application/vnd.databricks.v1+cell": {
     "cellMetadata": {
      "byteLimit": 2048000,
      "implicitDf": true,
      "rowLimit": 10000
     },
     "inputWidgets": {},
     "nuid": "29cc9e13-8506-4541-8f39-6a623dd050d1",
     "showTitle": false,
     "tableResultSettingsMap": {},
     "title": ""
    }
   },
   "outputs": [],
   "source": [
    "%sql\n",
    "DESCRIBE openbet_raw.dimdate;\n"
   ]
  },
  {
   "cell_type": "code",
   "execution_count": 0,
   "metadata": {
    "application/vnd.databricks.v1+cell": {
     "cellMetadata": {
      "byteLimit": 2048000,
      "implicitDf": true,
      "rowLimit": 10000
     },
     "inputWidgets": {},
     "nuid": "b013481d-5877-4875-9425-3d556b726330",
     "showTitle": false,
     "tableResultSettingsMap": {},
     "title": ""
    }
   },
   "outputs": [],
   "source": [
    "%sql\n",
    "SELECT DISTINCT t.billable FROM openbet_raw.tasks t;\n"
   ]
  },
  {
   "cell_type": "code",
   "execution_count": 0,
   "metadata": {
    "application/vnd.databricks.v1+cell": {
     "cellMetadata": {
      "byteLimit": 2048000,
      "implicitDf": true,
      "rowLimit": 10000
     },
     "inputWidgets": {},
     "nuid": "f9301888-2c42-42ea-838e-ddf776fde03b",
     "showTitle": false,
     "tableResultSettingsMap": {},
     "title": ""
    }
   },
   "outputs": [],
   "source": [
    "%sql\n",
    "--How many unbillable hours per month\n",
    "\n",
    "SELECT\n",
    "  d.calendarmonthname,\n",
    "  d.calendaryear,\n",
    "  SUM(f.recordedtimehours) AS unbillable_hours\n",
    "FROM openbet_operational.fact_feed f\n",
    "JOIN openbet_raw.tasks t ON f.task_id = t.id\n",
    "JOIN openbet_raw.dimdate d ON f.datekey = d.datekey\n",
    "WHERE t.billable = \"Unbillable\"\n",
    "  AND d.calendaryear = 2021 -- ? only available year in dataset\n",
    "GROUP BY d.calendarmonthname, d.calendaryear, d.calendarmonthnumber\n",
    "ORDER BY d.calendaryear, d.calendarmonthnumber"
   ]
  },
  {
   "cell_type": "code",
   "execution_count": 0,
   "metadata": {
    "application/vnd.databricks.v1+cell": {
     "cellMetadata": {
      "byteLimit": 2048000,
      "implicitDf": true,
      "rowLimit": 10000
     },
     "inputWidgets": {},
     "nuid": "0ee4e1ce-53b4-447f-92c1-ea870f4efa49",
     "showTitle": false,
     "tableResultSettingsMap": {},
     "title": ""
    }
   },
   "outputs": [],
   "source": [
    "%sql\n",
    "--Year-To-Date (YTD) recorded billable hours\n",
    "\n",
    "WITH max_date_per_month AS (\n",
    "  SELECT calendaryear, calendarmonthnumber, MAX(datekey) AS max_datekey\n",
    "  FROM openbet_raw.dimdate\n",
    "  GROUP BY calendaryear, calendarmonthnumber\n",
    ")\n",
    "\n",
    "SELECT\n",
    "  d.calendarmonthname,\n",
    "  d.calendaryear,\n",
    "  c.clientname,\n",
    "  SUM(f.recordedtimehours) AS ytd_billable_hours\n",
    "FROM openbet_operational.fact_feed f\n",
    "JOIN openbet_raw.tasks t ON f.task_id = t.id\n",
    "JOIN openbet_raw.clients c ON t.client_id = c.id\n",
    "JOIN openbet_raw.dimdate d ON f.datekey = d.datekey\n",
    "JOIN max_date_per_month md ON d.calendaryear = md.calendaryear AND d.calendarmonthnumber = md.calendarmonthnumber\n",
    "WHERE t.billable = \"Billable\"\n",
    "  AND d.calendaryear = 2021 -- use actual year available\n",
    "  AND f.datekey <= md.max_datekey\n",
    "GROUP BY d.calendarmonthname, d.calendaryear, d.calendarmonthnumber, c.clientname\n",
    "ORDER BY d.calendaryear, d.calendarmonthnumber;"
   ]
  },
  {
   "cell_type": "code",
   "execution_count": 0,
   "metadata": {
    "application/vnd.databricks.v1+cell": {
     "cellMetadata": {},
     "inputWidgets": {},
     "nuid": "94a45e2f-6f25-4d70-8e61-dc2858d18614",
     "showTitle": false,
     "tableResultSettingsMap": {},
     "title": ""
    }
   },
   "outputs": [],
   "source": []
  }
 ],
 "metadata": {
  "application/vnd.databricks.v1+notebook": {
   "computePreferences": null,
   "dashboards": [],
   "environmentMetadata": {
    "base_environment": "",
    "environment_version": "2"
   },
   "inputWidgetPreferences": null,
   "language": "python",
   "notebookMetadata": {
    "mostRecentlyExecutedCommandWithImplicitDF": {
     "commandId": 5083073230368548,
     "dataframes": [
      "_sqldf"
     ]
    },
    "pythonIndentUnit": 4
   },
   "notebookName": "business_intelligence.py",
   "widgets": {}
  },
  "language_info": {
   "name": "python"
  }
 },
 "nbformat": 4,
 "nbformat_minor": 0
}
